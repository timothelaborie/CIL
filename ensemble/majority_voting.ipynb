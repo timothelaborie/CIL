{
 "cells": [
  {
   "cell_type": "code",
   "execution_count": 2,
   "metadata": {},
   "outputs": [
    {
     "name": "stdout",
     "output_type": "stream",
     "text": [
      "oneformer.csv\n",
      "segformer.csv\n",
      "upernet2.csv\n",
      "3\n"
     ]
    }
   ],
   "source": [
    "import pandas as pd\n",
    "import numpy as np\n",
    "import os\n",
    "cwd = os.getcwd()\n",
    "\n",
    "#load every csv in the folder\n",
    "dfs = []\n",
    "files = os.listdir(cwd)\n",
    "for file in files:\n",
    "    if file.endswith(\".csv\") and file != \"submission.csv\":\n",
    "        print(file)\n",
    "        dfs.append(pd.read_csv(file))\n",
    "        \n",
    "print(len(dfs))\n",
    "\n",
    "#format is:\n",
    "# id,prediction\n",
    "# 144_0_0,0\n",
    "# 144_0_16,0\n",
    "# 144_0_32,1\n",
    "# 144_0_48,1\n",
    "# etc\n",
    "\n",
    "#average the predictions\n",
    "df_final = dfs[0]\n",
    "for df in dfs[1:]:\n",
    "    df_final['prediction'] = df_final['prediction'] + df['prediction']\n",
    "\n",
    "df_final['prediction'] = df_final['prediction'] / len(dfs)\n",
    "\n",
    "#round to 0 or 1\n",
    "df_final['prediction'] = df_final['prediction'].apply(lambda x: 1 if x > 0.5 else 0)\n",
    "\n",
    "#save\n",
    "df_final.to_csv(\"submission.csv\", index=False)"
   ]
  }
 ],
 "metadata": {
  "kernelspec": {
   "display_name": "base",
   "language": "python",
   "name": "python3"
  },
  "language_info": {
   "codemirror_mode": {
    "name": "ipython",
    "version": 3
   },
   "file_extension": ".py",
   "mimetype": "text/x-python",
   "name": "python",
   "nbconvert_exporter": "python",
   "pygments_lexer": "ipython3",
   "version": "3.9.7"
  },
  "orig_nbformat": 4
 },
 "nbformat": 4,
 "nbformat_minor": 2
}
